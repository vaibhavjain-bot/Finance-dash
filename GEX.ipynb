{
 "cells": [
  {
   "cell_type": "code",
   "execution_count": 13,
   "id": "67df110c",
   "metadata": {},
   "outputs": [],
   "source": [
    "import pandas as pd\n",
    "import numpy as np\n",
    "import matplotlib.pyplot as plt\n",
    "import scipy\n",
    "import seaborn as sns\n",
    "from datetime import timedelta, date\n",
    "import datetime\n",
    "from itertools import *"
   ]
  },
  {
   "cell_type": "code",
   "execution_count": 14,
   "id": "0b43d8a4",
   "metadata": {},
   "outputs": [],
   "source": [
    "df = pd.read_csv('spy_quotedata.csv', sep='\\s+', header=None, skiprows=0) \n"
   ]
  },
  {
   "cell_type": "code",
   "execution_count": 17,
   "id": "f5737d0a",
   "metadata": {},
   "outputs": [
    {
     "ename": "ValueError",
     "evalue": "Length mismatch: Expected axis has 7 elements, new values have 1 elements",
     "output_type": "error",
     "traceback": [
      "\u001b[0;31m---------------------------------------------------------------------------\u001b[0m",
      "\u001b[0;31mValueError\u001b[0m                                Traceback (most recent call last)",
      "Input \u001b[0;32mIn [17]\u001b[0m, in \u001b[0;36m<cell line: 1>\u001b[0;34m()\u001b[0m\n\u001b[0;32m----> 1\u001b[0m df\u001b[38;5;241m.\u001b[39mcolumns \u001b[38;5;241m=\u001b[39m [\u001b[38;5;124m'\u001b[39m\u001b[38;5;124m1stCol\u001b[39m\u001b[38;5;124m'\u001b[39m]\n",
      "File \u001b[0;32m/opt/anaconda3/lib/python3.9/site-packages/pandas/core/generic.py:5588\u001b[0m, in \u001b[0;36mNDFrame.__setattr__\u001b[0;34m(self, name, value)\u001b[0m\n\u001b[1;32m   5586\u001b[0m \u001b[38;5;28;01mtry\u001b[39;00m:\n\u001b[1;32m   5587\u001b[0m     \u001b[38;5;28mobject\u001b[39m\u001b[38;5;241m.\u001b[39m\u001b[38;5;21m__getattribute__\u001b[39m(\u001b[38;5;28mself\u001b[39m, name)\n\u001b[0;32m-> 5588\u001b[0m     \u001b[38;5;28;01mreturn\u001b[39;00m \u001b[38;5;28;43mobject\u001b[39;49m\u001b[38;5;241;43m.\u001b[39;49m\u001b[38;5;21;43m__setattr__\u001b[39;49m\u001b[43m(\u001b[49m\u001b[38;5;28;43mself\u001b[39;49m\u001b[43m,\u001b[49m\u001b[43m \u001b[49m\u001b[43mname\u001b[49m\u001b[43m,\u001b[49m\u001b[43m \u001b[49m\u001b[43mvalue\u001b[49m\u001b[43m)\u001b[49m\n\u001b[1;32m   5589\u001b[0m \u001b[38;5;28;01mexcept\u001b[39;00m \u001b[38;5;167;01mAttributeError\u001b[39;00m:\n\u001b[1;32m   5590\u001b[0m     \u001b[38;5;28;01mpass\u001b[39;00m\n",
      "File \u001b[0;32m/opt/anaconda3/lib/python3.9/site-packages/pandas/_libs/properties.pyx:70\u001b[0m, in \u001b[0;36mpandas._libs.properties.AxisProperty.__set__\u001b[0;34m()\u001b[0m\n",
      "File \u001b[0;32m/opt/anaconda3/lib/python3.9/site-packages/pandas/core/generic.py:769\u001b[0m, in \u001b[0;36mNDFrame._set_axis\u001b[0;34m(self, axis, labels)\u001b[0m\n\u001b[1;32m    767\u001b[0m \u001b[38;5;28;01mdef\u001b[39;00m \u001b[38;5;21m_set_axis\u001b[39m(\u001b[38;5;28mself\u001b[39m, axis: \u001b[38;5;28mint\u001b[39m, labels: Index) \u001b[38;5;241m-\u001b[39m\u001b[38;5;241m>\u001b[39m \u001b[38;5;28;01mNone\u001b[39;00m:\n\u001b[1;32m    768\u001b[0m     labels \u001b[38;5;241m=\u001b[39m ensure_index(labels)\n\u001b[0;32m--> 769\u001b[0m     \u001b[38;5;28;43mself\u001b[39;49m\u001b[38;5;241;43m.\u001b[39;49m\u001b[43m_mgr\u001b[49m\u001b[38;5;241;43m.\u001b[39;49m\u001b[43mset_axis\u001b[49m\u001b[43m(\u001b[49m\u001b[43maxis\u001b[49m\u001b[43m,\u001b[49m\u001b[43m \u001b[49m\u001b[43mlabels\u001b[49m\u001b[43m)\u001b[49m\n\u001b[1;32m    770\u001b[0m     \u001b[38;5;28mself\u001b[39m\u001b[38;5;241m.\u001b[39m_clear_item_cache()\n",
      "File \u001b[0;32m/opt/anaconda3/lib/python3.9/site-packages/pandas/core/internals/managers.py:214\u001b[0m, in \u001b[0;36mBaseBlockManager.set_axis\u001b[0;34m(self, axis, new_labels)\u001b[0m\n\u001b[1;32m    212\u001b[0m \u001b[38;5;28;01mdef\u001b[39;00m \u001b[38;5;21mset_axis\u001b[39m(\u001b[38;5;28mself\u001b[39m, axis: \u001b[38;5;28mint\u001b[39m, new_labels: Index) \u001b[38;5;241m-\u001b[39m\u001b[38;5;241m>\u001b[39m \u001b[38;5;28;01mNone\u001b[39;00m:\n\u001b[1;32m    213\u001b[0m     \u001b[38;5;66;03m# Caller is responsible for ensuring we have an Index object.\u001b[39;00m\n\u001b[0;32m--> 214\u001b[0m     \u001b[38;5;28;43mself\u001b[39;49m\u001b[38;5;241;43m.\u001b[39;49m\u001b[43m_validate_set_axis\u001b[49m\u001b[43m(\u001b[49m\u001b[43maxis\u001b[49m\u001b[43m,\u001b[49m\u001b[43m \u001b[49m\u001b[43mnew_labels\u001b[49m\u001b[43m)\u001b[49m\n\u001b[1;32m    215\u001b[0m     \u001b[38;5;28mself\u001b[39m\u001b[38;5;241m.\u001b[39maxes[axis] \u001b[38;5;241m=\u001b[39m new_labels\n",
      "File \u001b[0;32m/opt/anaconda3/lib/python3.9/site-packages/pandas/core/internals/base.py:69\u001b[0m, in \u001b[0;36mDataManager._validate_set_axis\u001b[0;34m(self, axis, new_labels)\u001b[0m\n\u001b[1;32m     66\u001b[0m     \u001b[38;5;28;01mpass\u001b[39;00m\n\u001b[1;32m     68\u001b[0m \u001b[38;5;28;01melif\u001b[39;00m new_len \u001b[38;5;241m!=\u001b[39m old_len:\n\u001b[0;32m---> 69\u001b[0m     \u001b[38;5;28;01mraise\u001b[39;00m \u001b[38;5;167;01mValueError\u001b[39;00m(\n\u001b[1;32m     70\u001b[0m         \u001b[38;5;124mf\u001b[39m\u001b[38;5;124m\"\u001b[39m\u001b[38;5;124mLength mismatch: Expected axis has \u001b[39m\u001b[38;5;132;01m{\u001b[39;00mold_len\u001b[38;5;132;01m}\u001b[39;00m\u001b[38;5;124m elements, new \u001b[39m\u001b[38;5;124m\"\u001b[39m\n\u001b[1;32m     71\u001b[0m         \u001b[38;5;124mf\u001b[39m\u001b[38;5;124m\"\u001b[39m\u001b[38;5;124mvalues have \u001b[39m\u001b[38;5;132;01m{\u001b[39;00mnew_len\u001b[38;5;132;01m}\u001b[39;00m\u001b[38;5;124m elements\u001b[39m\u001b[38;5;124m\"\u001b[39m\n\u001b[1;32m     72\u001b[0m     )\n",
      "\u001b[0;31mValueError\u001b[0m: Length mismatch: Expected axis has 7 elements, new values have 1 elements"
     ]
    }
   ],
   "source": [
    "df.columns = ['1stCol']\n",
    "\n",
    "\n",
    "spot_price = df['1stCol'][0].split(',')[1]\n",
    "spot_price = float(spot_price.split('Last:')[1])"
   ]
  },
  {
   "cell_type": "code",
   "execution_count": null,
   "id": "55c05b76",
   "metadata": {},
   "outputs": [],
   "source": []
  },
  {
   "cell_type": "code",
   "execution_count": null,
   "id": "e80679a6",
   "metadata": {},
   "outputs": [],
   "source": []
  },
  {
   "cell_type": "code",
   "execution_count": null,
   "id": "1b960894",
   "metadata": {},
   "outputs": [],
   "source": [
    "\n",
    "df = df.iloc[3:]"
   ]
  },
  {
   "cell_type": "code",
   "execution_count": 10,
   "id": "eb84b81d",
   "metadata": {},
   "outputs": [
    {
     "data": {
      "text/html": [
       "<div>\n",
       "<style scoped>\n",
       "    .dataframe tbody tr th:only-of-type {\n",
       "        vertical-align: middle;\n",
       "    }\n",
       "\n",
       "    .dataframe tbody tr th {\n",
       "        vertical-align: top;\n",
       "    }\n",
       "\n",
       "    .dataframe thead th {\n",
       "        text-align: right;\n",
       "    }\n",
       "</style>\n",
       "<table border=\"1\" class=\"dataframe\">\n",
       "  <thead>\n",
       "    <tr style=\"text-align: right;\">\n",
       "      <th></th>\n",
       "      <th>0</th>\n",
       "      <th>1</th>\n",
       "      <th>2</th>\n",
       "      <th>3</th>\n",
       "      <th>4</th>\n",
       "      <th>5</th>\n",
       "      <th>6</th>\n",
       "    </tr>\n",
       "  </thead>\n",
       "  <tbody>\n",
       "    <tr>\n",
       "      <th>0</th>\n",
       "      <td>SPDR</td>\n",
       "      <td>S&amp;P</td>\n",
       "      <td>500</td>\n",
       "      <td>ETF</td>\n",
       "      <td>Trust,Last:</td>\n",
       "      <td>388.55,Change:</td>\n",
       "      <td>2.99</td>\n",
       "    </tr>\n",
       "    <tr>\n",
       "      <th>1</th>\n",
       "      <td>Date: 19 September 2022, 8:29 PM GMT-4,Bid:</td>\n",
       "      <td>389.76,Ask:</td>\n",
       "      <td>389.8,Size:</td>\n",
       "      <td>1*6,\"Volume:</td>\n",
       "      <td>7,31,75,183\"</td>\n",
       "      <td>NaN</td>\n",
       "      <td>NaN</td>\n",
       "    </tr>\n",
       "    <tr>\n",
       "      <th>2</th>\n",
       "      <td>Expiration</td>\n",
       "      <td>Date,Calls,Last</td>\n",
       "      <td>Sale,Net,Bid,Ask,Volume,IV,Delta,Gamma,Open</td>\n",
       "      <td>Interest,Strike,Puts,Last</td>\n",
       "      <td>Sale,Net,Bid,Ask,Volume,IV,Delta,Gamma,Open</td>\n",
       "      <td>Interest</td>\n",
       "      <td>NaN</td>\n",
       "    </tr>\n",
       "    <tr>\n",
       "      <th>3</th>\n",
       "      <td>Mon</td>\n",
       "      <td>Oct</td>\n",
       "      <td>03</td>\n",
       "      <td>2022,SPY221003C00385000,10.2,1.41,9.79,9.84,11...</td>\n",
       "      <td>NaN</td>\n",
       "      <td>NaN</td>\n",
       "      <td>NaN</td>\n",
       "    </tr>\n",
       "    <tr>\n",
       "      <th>4</th>\n",
       "      <td>Mon</td>\n",
       "      <td>Oct</td>\n",
       "      <td>03</td>\n",
       "      <td>2022,SPY221003C00386000,9.59,1.365,9.17,9.22,5...</td>\n",
       "      <td>NaN</td>\n",
       "      <td>NaN</td>\n",
       "      <td>NaN</td>\n",
       "    </tr>\n",
       "  </tbody>\n",
       "</table>\n",
       "</div>"
      ],
      "text/plain": [
       "                                             0                1  \\\n",
       "0                                         SPDR              S&P   \n",
       "1  Date: 19 September 2022, 8:29 PM GMT-4,Bid:      389.76,Ask:   \n",
       "2                                   Expiration  Date,Calls,Last   \n",
       "3                                          Mon              Oct   \n",
       "4                                          Mon              Oct   \n",
       "\n",
       "                                             2  \\\n",
       "0                                          500   \n",
       "1                                  389.8,Size:   \n",
       "2  Sale,Net,Bid,Ask,Volume,IV,Delta,Gamma,Open   \n",
       "3                                           03   \n",
       "4                                           03   \n",
       "\n",
       "                                                   3  \\\n",
       "0                                                ETF   \n",
       "1                                       1*6,\"Volume:   \n",
       "2                          Interest,Strike,Puts,Last   \n",
       "3  2022,SPY221003C00385000,10.2,1.41,9.79,9.84,11...   \n",
       "4  2022,SPY221003C00386000,9.59,1.365,9.17,9.22,5...   \n",
       "\n",
       "                                             4               5     6  \n",
       "0                                  Trust,Last:  388.55,Change:  2.99  \n",
       "1                                 7,31,75,183\"             NaN   NaN  \n",
       "2  Sale,Net,Bid,Ask,Volume,IV,Delta,Gamma,Open        Interest   NaN  \n",
       "3                                          NaN             NaN   NaN  \n",
       "4                                          NaN             NaN   NaN  "
      ]
     },
     "execution_count": 10,
     "metadata": {},
     "output_type": "execute_result"
    }
   ],
   "source": [
    "df.head()"
   ]
  },
  {
   "cell_type": "code",
   "execution_count": null,
   "id": "3806d15c",
   "metadata": {},
   "outputs": [],
   "source": []
  },
  {
   "cell_type": "code",
   "execution_count": null,
   "id": "c4d07804",
   "metadata": {},
   "outputs": [],
   "source": []
  },
  {
   "cell_type": "code",
   "execution_count": null,
   "id": "392ad80d",
   "metadata": {},
   "outputs": [],
   "source": [
    "new = df[\"1stCol\"].str.split(\",\", n = 21, expand = True)\n",
    "new.columns = ['ExpirationDate','Calls','CallLastSale','CallNet','CallBid','CallAsk','CallVol','CallIV','CallDelta','CallGamma','CallOpenInt','CallStrike','Puts','PutLastSale','PutNet','PutBid','PutAsk','PutVol','PutIV','PutDelta','PutGamma','PutOpenInt']\n",
    "\n",
    "callStrike = [x[-6:-3] for x in new.Calls]\n",
    "new['StrikePrice'] = callStrike \n",
    "\n",
    "new['CallGamma'] = new['CallGamma'].astype(float)\n",
    "new['CallOpenInt'] = new['CallOpenInt'].astype(float)\n",
    "new['CallGEX'] = new['CallGamma'] * new['CallOpenInt'] * 100 * spot_price\n",
    "\n",
    "new['PutGamma'] = new['PutGamma'].astype(float)\n",
    "new['PutOpenInt'] = new['PutOpenInt'].astype(float)\n",
    "new['PutGEX'] = new['PutGamma'] * new['PutOpenInt'] * 100 * spot_price * -1\n",
    "\n",
    "\n",
    "\n",
    "new['TotalGamma'] = new.CallGEX + new.PutGEX\n",
    "count = 0\n",
    "strikeWithGamma = []\n",
    "for a, b in zip(new.StrikePrice, new.TotalGamma):\n",
    "    strikesPlusGamma = (a,b)\n",
    "    strikeWithGamma.append(strikesPlusGamma)\n",
    "new['StrikeAndGamma'] = strikeWithGamma\n",
    "new = new[(new['TotalGamma'] != 0.0)]\n",
    "\n",
    "new.sort_values('StrikePrice').plot(x = 'StrikePrice', y = 'TotalGamma', grid = True)\n",
    "plt.show()\n",
    "\n",
    "def zero_gex(strikes):\n",
    "    def add(a, b):\n",
    "        return (b[0], a[1] + b[1])\n",
    "\n",
    "    cumsum = list(accumulate(strikes, add))\n",
    "    if cumsum[len(strikes) // 10][1] < 0:\n",
    "        op = min\n",
    "    else:\n",
    "        op = max\n",
    "    return op(cumsum, key=lambda i: i[1])[0]\n",
    "\n",
    "print(zero_gex(new.StrikeAndGamma))"
   ]
  },
  {
   "cell_type": "code",
   "execution_count": null,
   "id": "a33d0e84",
   "metadata": {},
   "outputs": [],
   "source": []
  },
  {
   "cell_type": "code",
   "execution_count": null,
   "id": "488068dc",
   "metadata": {},
   "outputs": [],
   "source": []
  },
  {
   "cell_type": "code",
   "execution_count": null,
   "id": "e23d2e93",
   "metadata": {},
   "outputs": [],
   "source": []
  },
  {
   "cell_type": "code",
   "execution_count": null,
   "id": "d374da28",
   "metadata": {},
   "outputs": [],
   "source": []
  },
  {
   "cell_type": "code",
   "execution_count": null,
   "id": "938db9d4",
   "metadata": {},
   "outputs": [],
   "source": []
  },
  {
   "cell_type": "code",
   "execution_count": null,
   "id": "abf86ac4",
   "metadata": {},
   "outputs": [],
   "source": []
  },
  {
   "cell_type": "code",
   "execution_count": null,
   "id": "cbb18f1e",
   "metadata": {},
   "outputs": [],
   "source": []
  }
 ],
 "metadata": {
  "kernelspec": {
   "display_name": "Python 3 (ipykernel)",
   "language": "python",
   "name": "python3"
  },
  "language_info": {
   "codemirror_mode": {
    "name": "ipython",
    "version": 3
   },
   "file_extension": ".py",
   "mimetype": "text/x-python",
   "name": "python",
   "nbconvert_exporter": "python",
   "pygments_lexer": "ipython3",
   "version": "3.9.12"
  }
 },
 "nbformat": 4,
 "nbformat_minor": 5
}
