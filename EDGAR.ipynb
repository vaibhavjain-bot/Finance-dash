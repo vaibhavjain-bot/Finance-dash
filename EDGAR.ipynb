{
 "cells": [
  {
   "cell_type": "code",
   "execution_count": 1,
   "id": "a167407a",
   "metadata": {},
   "outputs": [],
   "source": [
    "email=\"vaibhavjain055@gmail.com\"\n",
    "website=\"www.vaibhav.com\""
   ]
  },
  {
   "cell_type": "code",
   "execution_count": 2,
   "id": "fc9707d9",
   "metadata": {},
   "outputs": [],
   "source": [
    "import requests\n",
    "headers = { \"User-Agent\": f\"{website} {email}\"}\n",
    "form = \"https://www.sec.gov/Archives/edgar/data/320193/000032019322000063/wf-form4_165248105838188.xml\"\n",
    "res = requests.get(form)"
   ]
  },
  {
   "cell_type": "code",
   "execution_count": null,
   "id": "9403581b",
   "metadata": {},
   "outputs": [],
   "source": []
  },
  {
   "cell_type": "code",
   "execution_count": 3,
   "id": "dddd24bc",
   "metadata": {},
   "outputs": [
    {
     "data": {
      "text/plain": [
       "b'<?xml version=\"1.0\"?>\\n<ownershipDocument>\\n\\n    <sc'"
      ]
     },
     "execution_count": 3,
     "metadata": {},
     "output_type": "execute_result"
    }
   ],
   "source": [
    "res = requests.get(form, headers=headers)\n",
    "res.raise_for_status()\n",
    "res.content[0:50]"
   ]
  },
  {
   "cell_type": "code",
   "execution_count": 4,
   "id": "c3fa9624",
   "metadata": {},
   "outputs": [
    {
     "data": {
      "text/plain": [
       "('BELL JAMES A', 'Common Stock', '2022-05-06', '1276', 'D')"
      ]
     },
     "execution_count": 4,
     "metadata": {},
     "output_type": "execute_result"
    }
   ],
   "source": [
    "from lxml import etree\n",
    "doc = etree.fromstring(res.content)\n",
    "owner = doc.xpath(\"/ownershipDocument/reportingOwner/reportingOwnerId/rptOwnerName\")[0].text\n",
    "security = doc.xpath(\"//securityTitle/value\")[0].text\n",
    "date = doc.xpath(\"//transactionDate/value\")[0].text\n",
    "amount = doc.xpath(\"//transactionAmounts/transactionShares/value\")[0].text\n",
    "disposal = doc.xpath(\"//transactionAmounts/transactionAcquiredDisposedCode/value\")[0].text\n",
    "owner, security, date, amount, disposal"
   ]
  },
  {
   "cell_type": "code",
   "execution_count": 5,
   "id": "c5d0d425",
   "metadata": {},
   "outputs": [
    {
     "name": "stdout",
     "output_type": "stream",
     "text": [
      "0 {'cik_str': 320193, 'ticker': 'AAPL', 'title': 'Apple Inc.'}\n",
      "1 {'cik_str': 789019, 'ticker': 'MSFT', 'title': 'MICROSOFT CORP'}\n",
      "2 {'cik_str': 1318605, 'ticker': 'TSLA', 'title': 'Tesla, Inc.'}\n",
      "3 {'cik_str': 1067983, 'ticker': 'BRK-B', 'title': 'BERKSHIRE HATHAWAY INC'}\n",
      "4 {'cik_str': 731766, 'ticker': 'UNH', 'title': 'UNITEDHEALTH GROUP INC'}\n"
     ]
    }
   ],
   "source": [
    "symbol_to_cik = requests.get(\"https://www.sec.gov/files/company_tickers.json\").json()\n",
    "for i in range(5):\n",
    "    print(i, symbol_to_cik[f\"{i}\"])\n",
    "\n"
   ]
  },
  {
   "cell_type": "code",
   "execution_count": 6,
   "id": "84853e9e",
   "metadata": {},
   "outputs": [
    {
     "data": {
      "text/plain": [
       "50863"
      ]
     },
     "execution_count": 6,
     "metadata": {},
     "output_type": "execute_result"
    }
   ],
   "source": [
    "cik_lookup = dict([(val['ticker'], val['cik_str']) for key, val in symbol_to_cik.items()])\n",
    "cik = cik_lookup['INTC']\n",
    "cik"
   ]
  },
  {
   "cell_type": "code",
   "execution_count": null,
   "id": "006c5628",
   "metadata": {},
   "outputs": [],
   "source": []
  },
  {
   "cell_type": "code",
   "execution_count": 7,
   "id": "92d4053f",
   "metadata": {},
   "outputs": [
    {
     "data": {
      "text/plain": [
       "dict_keys(['cik', 'entityType', 'sic', 'sicDescription', 'insiderTransactionForOwnerExists', 'insiderTransactionForIssuerExists', 'name', 'tickers', 'exchanges', 'ein', 'description', 'website', 'investorWebsite', 'category', 'fiscalYearEnd', 'stateOfIncorporation', 'stateOfIncorporationDescription', 'addresses', 'phone', 'flags', 'formerNames', 'filings'])"
      ]
     },
     "execution_count": 7,
     "metadata": {},
     "output_type": "execute_result"
    }
   ],
   "source": [
    "edgar_filings = requests.get(f\"https://data.sec.gov/submissions/CIK{cik:0>10}.json\", headers=headers).json()\n",
    "edgar_filings.keys()"
   ]
  },
  {
   "cell_type": "code",
   "execution_count": null,
   "id": "9a8fc4e5",
   "metadata": {},
   "outputs": [],
   "source": []
  },
  {
   "cell_type": "code",
   "execution_count": 8,
   "id": "4ee23731",
   "metadata": {},
   "outputs": [
    {
     "data": {
      "text/html": [
       "<div>\n",
       "<style scoped>\n",
       "    .dataframe tbody tr th:only-of-type {\n",
       "        vertical-align: middle;\n",
       "    }\n",
       "\n",
       "    .dataframe tbody tr th {\n",
       "        vertical-align: top;\n",
       "    }\n",
       "\n",
       "    .dataframe thead th {\n",
       "        text-align: right;\n",
       "    }\n",
       "</style>\n",
       "<table border=\"1\" class=\"dataframe\">\n",
       "  <thead>\n",
       "    <tr style=\"text-align: right;\">\n",
       "      <th></th>\n",
       "      <th>accessionNumber</th>\n",
       "      <th>filingDate</th>\n",
       "      <th>reportDate</th>\n",
       "      <th>acceptanceDateTime</th>\n",
       "      <th>act</th>\n",
       "      <th>form</th>\n",
       "      <th>fileNumber</th>\n",
       "      <th>filmNumber</th>\n",
       "      <th>items</th>\n",
       "      <th>size</th>\n",
       "      <th>isXBRL</th>\n",
       "      <th>isInlineXBRL</th>\n",
       "      <th>primaryDocument</th>\n",
       "      <th>primaryDocDescription</th>\n",
       "    </tr>\n",
       "  </thead>\n",
       "  <tbody>\n",
       "    <tr>\n",
       "      <th>0</th>\n",
       "      <td>0000950123-22-008991</td>\n",
       "      <td>2022-08-15</td>\n",
       "      <td>2022-06-30</td>\n",
       "      <td>2022-08-15T06:46:41.000Z</td>\n",
       "      <td>34</td>\n",
       "      <td>13F-HR</td>\n",
       "      <td>028-04527</td>\n",
       "      <td>221162237</td>\n",
       "      <td></td>\n",
       "      <td>7935</td>\n",
       "      <td>0</td>\n",
       "      <td>0</td>\n",
       "      <td>xslForm13F_X01/primary_doc.xml</td>\n",
       "      <td></td>\n",
       "    </tr>\n",
       "    <tr>\n",
       "      <th>1</th>\n",
       "      <td>0001193125-22-218541</td>\n",
       "      <td>2022-08-11</td>\n",
       "      <td>2022-08-08</td>\n",
       "      <td>2022-08-11T16:11:07.000Z</td>\n",
       "      <td>34</td>\n",
       "      <td>8-K</td>\n",
       "      <td>000-06217</td>\n",
       "      <td>221155840</td>\n",
       "      <td>5.02,7.01,9.01</td>\n",
       "      <td>194551</td>\n",
       "      <td>1</td>\n",
       "      <td>1</td>\n",
       "      <td>d359017d8k.htm</td>\n",
       "      <td>8-K</td>\n",
       "    </tr>\n",
       "    <tr>\n",
       "      <th>2</th>\n",
       "      <td>0001193125-22-213699</td>\n",
       "      <td>2022-08-05</td>\n",
       "      <td>2022-08-02</td>\n",
       "      <td>2022-08-05T16:54:34.000Z</td>\n",
       "      <td>34</td>\n",
       "      <td>8-K</td>\n",
       "      <td>000-06217</td>\n",
       "      <td>221141549</td>\n",
       "      <td>8.01,9.01</td>\n",
       "      <td>1066541</td>\n",
       "      <td>1</td>\n",
       "      <td>1</td>\n",
       "      <td>d390659d8k.htm</td>\n",
       "      <td>8-K</td>\n",
       "    </tr>\n",
       "    <tr>\n",
       "      <th>3</th>\n",
       "      <td>0001127602-22-020426</td>\n",
       "      <td>2022-08-03</td>\n",
       "      <td>2022-08-01</td>\n",
       "      <td>2022-08-03T17:49:56.000Z</td>\n",
       "      <td></td>\n",
       "      <td>4</td>\n",
       "      <td></td>\n",
       "      <td></td>\n",
       "      <td></td>\n",
       "      <td>8219</td>\n",
       "      <td>0</td>\n",
       "      <td>0</td>\n",
       "      <td>xslF345X03/form4.xml</td>\n",
       "      <td>PRIMARY DOCUMENT</td>\n",
       "    </tr>\n",
       "    <tr>\n",
       "      <th>4</th>\n",
       "      <td>0001127602-22-020425</td>\n",
       "      <td>2022-08-03</td>\n",
       "      <td>2022-08-01</td>\n",
       "      <td>2022-08-03T17:48:19.000Z</td>\n",
       "      <td></td>\n",
       "      <td>4</td>\n",
       "      <td></td>\n",
       "      <td></td>\n",
       "      <td></td>\n",
       "      <td>8196</td>\n",
       "      <td>0</td>\n",
       "      <td>0</td>\n",
       "      <td>xslF345X03/form4.xml</td>\n",
       "      <td>PRIMARY DOCUMENT</td>\n",
       "    </tr>\n",
       "  </tbody>\n",
       "</table>\n",
       "</div>"
      ],
      "text/plain": [
       "        accessionNumber  filingDate  reportDate        acceptanceDateTime act  \\\n",
       "0  0000950123-22-008991  2022-08-15  2022-06-30  2022-08-15T06:46:41.000Z  34   \n",
       "1  0001193125-22-218541  2022-08-11  2022-08-08  2022-08-11T16:11:07.000Z  34   \n",
       "2  0001193125-22-213699  2022-08-05  2022-08-02  2022-08-05T16:54:34.000Z  34   \n",
       "3  0001127602-22-020426  2022-08-03  2022-08-01  2022-08-03T17:49:56.000Z       \n",
       "4  0001127602-22-020425  2022-08-03  2022-08-01  2022-08-03T17:48:19.000Z       \n",
       "\n",
       "     form fileNumber filmNumber           items     size  isXBRL  \\\n",
       "0  13F-HR  028-04527  221162237                     7935       0   \n",
       "1     8-K  000-06217  221155840  5.02,7.01,9.01   194551       1   \n",
       "2     8-K  000-06217  221141549       8.01,9.01  1066541       1   \n",
       "3       4                                           8219       0   \n",
       "4       4                                           8196       0   \n",
       "\n",
       "   isInlineXBRL                 primaryDocument primaryDocDescription  \n",
       "0             0  xslForm13F_X01/primary_doc.xml                        \n",
       "1             1                  d359017d8k.htm                   8-K  \n",
       "2             1                  d390659d8k.htm                   8-K  \n",
       "3             0            xslF345X03/form4.xml      PRIMARY DOCUMENT  \n",
       "4             0            xslF345X03/form4.xml      PRIMARY DOCUMENT  "
      ]
     },
     "execution_count": 8,
     "metadata": {},
     "output_type": "execute_result"
    }
   ],
   "source": [
    "import pandas as pd\n",
    "recents = pd.DataFrame(edgar_filings['filings']['recent'])\n",
    "recents.head()"
   ]
  },
  {
   "cell_type": "code",
   "execution_count": 9,
   "id": "e5c704a3",
   "metadata": {},
   "outputs": [],
   "source": [
    "recents['reportDate'] = pd.to_datetime(recents['reportDate'])\n",
    "recents['filingDate'] = pd.to_datetime(recents['filingDate'])"
   ]
  },
  {
   "cell_type": "code",
   "execution_count": 10,
   "id": "6370d51c",
   "metadata": {},
   "outputs": [
    {
     "data": {
      "text/plain": [
       "(19, 14)"
      ]
     },
     "execution_count": 10,
     "metadata": {},
     "output_type": "execute_result"
    }
   ],
   "source": [
    "insider_q1 = recents[(recents['form'] == \"4\") &\n",
    "        (recents['filingDate'] >= '2022-01-01') &\n",
    "        (recents['filingDate'] <= '2022-03-31')]\n",
    "insider_q1.shape"
   ]
  },
  {
   "cell_type": "code",
   "execution_count": 11,
   "id": "d1c7222a",
   "metadata": {},
   "outputs": [
    {
     "data": {
      "text/plain": [
       "'https://www.sec.gov/Archives/edgar/data/50863/000112760222010351/0001127602-22-010351.txt'"
      ]
     },
     "execution_count": 11,
     "metadata": {},
     "output_type": "execute_result"
    }
   ],
   "source": [
    "def make_url(cik, row):\n",
    "    accessionNumber = row['accessionNumber'].replace(\"-\", \"\")\n",
    "    return f\"https://www.sec.gov/Archives/edgar/data/{cik}/{accessionNumber}/{row['accessionNumber']}.txt\"\n",
    "make_url(cik, insider_q1.iloc[0])"
   ]
  },
  {
   "cell_type": "code",
   "execution_count": 12,
   "id": "80d96cfa",
   "metadata": {},
   "outputs": [
    {
     "data": {
      "text/plain": [
       "b'<SEC-DOCUMENT>0001127602-22-010351.txt : 20220324\\n<SEC-HEADER>0001127602-22-010351.hdr.sgml : 20220324\\n<ACCEPTANCE-DATETIME>20220324185112\\nACCESSION NUMBER:\\t\\t0001127602-22-010351\\nCONFORMED SUBMISSION TYPE:\\t4\\nPUBLIC DOCUMENT COUNT:\\t\\t1\\nCONFORMED PERIOD OF REPORT:\\t20220322\\nFILED AS OF DATE:\\t\\t20220324\\nD'"
      ]
     },
     "execution_count": 12,
     "metadata": {},
     "output_type": "execute_result"
    }
   ],
   "source": [
    "from bs4 import BeautifulSoup\n",
    "req = requests.get(make_url(cik, insider_q1.iloc[0]), headers=headers)\n",
    "soup = BeautifulSoup(req.content, 'html.parser')\n",
    "req.content[0:300]"
   ]
  },
  {
   "cell_type": "code",
   "execution_count": 13,
   "id": "636063d4",
   "metadata": {},
   "outputs": [
    {
     "data": {
      "text/plain": [
       "'<xml>\\n<?xml version=\"1.0\"?>\\n<ownershipdocument>\\n<schemaversion>X0306</schemaversion>\\n<documenttype>4</documenttype>\\n<periodofreport>2022-03-22</periodofreport>\\n<issuer>\\n<issuercik>0000050863</issuercik>\\n<issuername>INTEL CORP</issuername>\\n<issuertradingsymbol>INTC</issuertradingsymbol>\\n</issuer>\\n<re'"
      ]
     },
     "execution_count": 13,
     "metadata": {},
     "output_type": "execute_result"
    }
   ],
   "source": [
    "str(soup.find_all('xml')[0])[0:300]\n"
   ]
  },
  {
   "cell_type": "code",
   "execution_count": 14,
   "id": "56483f58",
   "metadata": {},
   "outputs": [],
   "source": [
    "import re\n",
    "def get_document(cik, row):\n",
    "    url = make_url(cik, row)\n",
    "    res = requests.get(url, headers=headers)\n",
    "    res.raise_for_status()\n",
    "    soup = BeautifulSoup(res.content, 'html.parser')\n",
    "    # use a case insensitive search for the root node of the XML document\n",
    "    docs = soup.find_all(re.compile(\"ownershipDocument\", re.IGNORECASE))\n",
    "    if len(docs) > 0:\n",
    "        doc = etree.fromstring(str(docs[0]))\n",
    "        if docs[0].name == \"ownershipDocument\":\n",
    "            owner = doc.xpath(\"/ownershipDocument/reportingOwner/reportingOwnerId/rptOwnerName\")[0].text\n",
    "            security = doc.xpath(\"//securityTitle/value\")[0].text\n",
    "            date = doc.xpath(\"//transactionDate/value\")[0].text\n",
    "            amount = doc.xpath(\"//transactionAmounts/transactionShares/value\")[0].text\n",
    "            disposal = doc.xpath(\"//transactionAmounts/transactionAcquiredDisposedCode/value\")[0].text\n",
    "        elif docs[0].name == \"ownershipdocument\":\n",
    "            owner = doc.xpath(\"/ownershipdocument/reportingowner/reportingownerid/rptownername\")[0].text\n",
    "            security = doc.xpath(\"//securitytitle/value\")[0].text\n",
    "            date = doc.xpath(\"//transactiondate/value\")[0].text\n",
    "            amount = doc.xpath(\"//transactionamounts/transactionshares/value\")[0].text\n",
    "            disposal = doc.xpath(\"//transactionamounts/transactionacquireddisposedcode/value\")[0].text\n",
    "            pass\n",
    "        else:\n",
    "            raise ValueError(f\"Don't know how to process {docs[0].name}\")\n",
    "        return (owner, security, date, amount, disposal)"
   ]
  },
  {
   "cell_type": "code",
   "execution_count": 15,
   "id": "16d0a74b",
   "metadata": {},
   "outputs": [
    {
     "data": {
      "text/plain": [
       "('GELSINGER PATRICK P', 'Common Stock', '2022-03-22', '13064', 'A')"
      ]
     },
     "execution_count": 15,
     "metadata": {},
     "output_type": "execute_result"
    }
   ],
   "source": [
    "get_document(cik, insider_q1.iloc[0])"
   ]
  },
  {
   "cell_type": "code",
   "execution_count": 16,
   "id": "b03b7181",
   "metadata": {},
   "outputs": [
    {
     "data": {
      "text/html": [
       "<div>\n",
       "<style scoped>\n",
       "    .dataframe tbody tr th:only-of-type {\n",
       "        vertical-align: middle;\n",
       "    }\n",
       "\n",
       "    .dataframe tbody tr th {\n",
       "        vertical-align: top;\n",
       "    }\n",
       "\n",
       "    .dataframe thead th {\n",
       "        text-align: right;\n",
       "    }\n",
       "</style>\n",
       "<table border=\"1\" class=\"dataframe\">\n",
       "  <thead>\n",
       "    <tr style=\"text-align: right;\">\n",
       "      <th></th>\n",
       "      <th>name</th>\n",
       "      <th>type</th>\n",
       "      <th>date</th>\n",
       "      <th>quantity</th>\n",
       "      <th>acquired_disposed</th>\n",
       "    </tr>\n",
       "  </thead>\n",
       "  <tbody>\n",
       "    <tr>\n",
       "      <th>0</th>\n",
       "      <td>GELSINGER PATRICK P</td>\n",
       "      <td>Common Stock</td>\n",
       "      <td>2022-03-22</td>\n",
       "      <td>13064</td>\n",
       "      <td>A</td>\n",
       "    </tr>\n",
       "    <tr>\n",
       "      <th>1</th>\n",
       "      <td>Intel Americas, Inc.</td>\n",
       "      <td>Class A Common Stock</td>\n",
       "      <td>2022-03-01</td>\n",
       "      <td>169742322</td>\n",
       "      <td>A</td>\n",
       "    </tr>\n",
       "    <tr>\n",
       "      <th>2</th>\n",
       "      <td>ISHRAK OMAR</td>\n",
       "      <td>Common Stock</td>\n",
       "      <td>2022-02-22</td>\n",
       "      <td>11025</td>\n",
       "      <td>A</td>\n",
       "    </tr>\n",
       "    <tr>\n",
       "      <th>3</th>\n",
       "      <td>GELSINGER PATRICK P</td>\n",
       "      <td>Common Stock</td>\n",
       "      <td>2022-02-22</td>\n",
       "      <td>5600</td>\n",
       "      <td>A</td>\n",
       "    </tr>\n",
       "    <tr>\n",
       "      <th>4</th>\n",
       "      <td>GELSINGER PATRICK P</td>\n",
       "      <td>Common Stock</td>\n",
       "      <td>2022-02-15</td>\n",
       "      <td>35135</td>\n",
       "      <td>A</td>\n",
       "    </tr>\n",
       "    <tr>\n",
       "      <th>5</th>\n",
       "      <td>Zinsner David</td>\n",
       "      <td>Performance-Based Stock Units (PSUs)</td>\n",
       "      <td>2022-01-31</td>\n",
       "      <td>78031</td>\n",
       "      <td>A</td>\n",
       "    </tr>\n",
       "    <tr>\n",
       "      <th>6</th>\n",
       "      <td>Rodgers Steven Ralph</td>\n",
       "      <td>Common Stock</td>\n",
       "      <td>2022-01-31</td>\n",
       "      <td>56030</td>\n",
       "      <td>A</td>\n",
       "    </tr>\n",
       "    <tr>\n",
       "      <th>7</th>\n",
       "      <td>Rivera Sandra L</td>\n",
       "      <td>Common Stock</td>\n",
       "      <td>2022-01-31</td>\n",
       "      <td>41147</td>\n",
       "      <td>A</td>\n",
       "    </tr>\n",
       "    <tr>\n",
       "      <th>8</th>\n",
       "      <td>GELSINGER PATRICK P</td>\n",
       "      <td>Performance-Based Stock Units (PSUs)</td>\n",
       "      <td>2022-01-31</td>\n",
       "      <td>325366</td>\n",
       "      <td>A</td>\n",
       "    </tr>\n",
       "    <tr>\n",
       "      <th>9</th>\n",
       "      <td>WEISLER DION J</td>\n",
       "      <td>Restricted Stock Units</td>\n",
       "      <td>2022-01-31</td>\n",
       "      <td>2152</td>\n",
       "      <td>A</td>\n",
       "    </tr>\n",
       "    <tr>\n",
       "      <th>10</th>\n",
       "      <td>Henry Alyssa</td>\n",
       "      <td>Restricted Stock Units</td>\n",
       "      <td>2022-01-31</td>\n",
       "      <td>2176</td>\n",
       "      <td>A</td>\n",
       "    </tr>\n",
       "    <tr>\n",
       "      <th>11</th>\n",
       "      <td>GOETZ JAMES J</td>\n",
       "      <td>Restricted Stock Units</td>\n",
       "      <td>2022-01-31</td>\n",
       "      <td>1703</td>\n",
       "      <td>A</td>\n",
       "    </tr>\n",
       "    <tr>\n",
       "      <th>12</th>\n",
       "      <td>WEISLER DION J</td>\n",
       "      <td>Common Stock</td>\n",
       "      <td>2022-01-30</td>\n",
       "      <td>453</td>\n",
       "      <td>A</td>\n",
       "    </tr>\n",
       "    <tr>\n",
       "      <th>13</th>\n",
       "      <td>Rodgers Steven Ralph</td>\n",
       "      <td>Common Stock</td>\n",
       "      <td>2022-01-30</td>\n",
       "      <td>2236</td>\n",
       "      <td>A</td>\n",
       "    </tr>\n",
       "    <tr>\n",
       "      <th>14</th>\n",
       "      <td>Rivera Sandra L</td>\n",
       "      <td>Common Stock</td>\n",
       "      <td>2022-01-30</td>\n",
       "      <td>1621</td>\n",
       "      <td>A</td>\n",
       "    </tr>\n",
       "    <tr>\n",
       "      <th>15</th>\n",
       "      <td>LAVIZZO-MOUREY RISA J</td>\n",
       "      <td>Common Stock</td>\n",
       "      <td>2022-01-30</td>\n",
       "      <td>1993</td>\n",
       "      <td>A</td>\n",
       "    </tr>\n",
       "    <tr>\n",
       "      <th>16</th>\n",
       "      <td>Henry Alyssa</td>\n",
       "      <td>Common Stock</td>\n",
       "      <td>2022-01-30</td>\n",
       "      <td>1563</td>\n",
       "      <td>A</td>\n",
       "    </tr>\n",
       "    <tr>\n",
       "      <th>17</th>\n",
       "      <td>GOETZ JAMES J</td>\n",
       "      <td>Common Stock</td>\n",
       "      <td>2022-01-30</td>\n",
       "      <td>1631</td>\n",
       "      <td>A</td>\n",
       "    </tr>\n",
       "    <tr>\n",
       "      <th>18</th>\n",
       "      <td>Davis George S</td>\n",
       "      <td>Common Stock</td>\n",
       "      <td>2022-01-03</td>\n",
       "      <td>15507</td>\n",
       "      <td>A</td>\n",
       "    </tr>\n",
       "  </tbody>\n",
       "</table>\n",
       "</div>"
      ],
      "text/plain": [
       "                     name                                  type        date  \\\n",
       "0     GELSINGER PATRICK P                          Common Stock  2022-03-22   \n",
       "1    Intel Americas, Inc.                  Class A Common Stock  2022-03-01   \n",
       "2             ISHRAK OMAR                          Common Stock  2022-02-22   \n",
       "3     GELSINGER PATRICK P                          Common Stock  2022-02-22   \n",
       "4     GELSINGER PATRICK P                          Common Stock  2022-02-15   \n",
       "5           Zinsner David  Performance-Based Stock Units (PSUs)  2022-01-31   \n",
       "6    Rodgers Steven Ralph                          Common Stock  2022-01-31   \n",
       "7         Rivera Sandra L                          Common Stock  2022-01-31   \n",
       "8     GELSINGER PATRICK P  Performance-Based Stock Units (PSUs)  2022-01-31   \n",
       "9          WEISLER DION J                Restricted Stock Units  2022-01-31   \n",
       "10           Henry Alyssa                Restricted Stock Units  2022-01-31   \n",
       "11          GOETZ JAMES J                Restricted Stock Units  2022-01-31   \n",
       "12         WEISLER DION J                          Common Stock  2022-01-30   \n",
       "13   Rodgers Steven Ralph                          Common Stock  2022-01-30   \n",
       "14        Rivera Sandra L                          Common Stock  2022-01-30   \n",
       "15  LAVIZZO-MOUREY RISA J                          Common Stock  2022-01-30   \n",
       "16           Henry Alyssa                          Common Stock  2022-01-30   \n",
       "17          GOETZ JAMES J                          Common Stock  2022-01-30   \n",
       "18         Davis George S                          Common Stock  2022-01-03   \n",
       "\n",
       "     quantity acquired_disposed  \n",
       "0       13064                 A  \n",
       "1   169742322                 A  \n",
       "2       11025                 A  \n",
       "3        5600                 A  \n",
       "4       35135                 A  \n",
       "5       78031                 A  \n",
       "6       56030                 A  \n",
       "7       41147                 A  \n",
       "8      325366                 A  \n",
       "9        2152                 A  \n",
       "10       2176                 A  \n",
       "11       1703                 A  \n",
       "12        453                 A  \n",
       "13       2236                 A  \n",
       "14       1621                 A  \n",
       "15       1993                 A  \n",
       "16       1563                 A  \n",
       "17       1631                 A  \n",
       "18      15507                 A  "
      ]
     },
     "execution_count": 16,
     "metadata": {},
     "output_type": "execute_result"
    }
   ],
   "source": [
    "results = []\n",
    "for i, row in insider_q1.iterrows():\n",
    "    try:\n",
    "        results.append(get_document(cik, row))\n",
    "    except ValueError as ve:\n",
    "        print(f\"{ve} on row {i}\")\n",
    "pd.DataFrame(results, columns=['name', 'type', 'date', 'quantity', 'acquired_disposed' ])\n"
   ]
  },
  {
   "cell_type": "code",
   "execution_count": null,
   "id": "20747916",
   "metadata": {},
   "outputs": [],
   "source": []
  },
  {
   "cell_type": "code",
   "execution_count": null,
   "id": "cfe223c3",
   "metadata": {},
   "outputs": [],
   "source": []
  },
  {
   "cell_type": "code",
   "execution_count": null,
   "id": "d138097f",
   "metadata": {},
   "outputs": [],
   "source": []
  },
  {
   "cell_type": "code",
   "execution_count": null,
   "id": "ee897bb7",
   "metadata": {},
   "outputs": [],
   "source": []
  },
  {
   "cell_type": "code",
   "execution_count": null,
   "id": "449a8682",
   "metadata": {},
   "outputs": [],
   "source": []
  },
  {
   "cell_type": "code",
   "execution_count": null,
   "id": "b9978734",
   "metadata": {},
   "outputs": [],
   "source": []
  },
  {
   "cell_type": "code",
   "execution_count": null,
   "id": "2938eba1",
   "metadata": {},
   "outputs": [],
   "source": []
  },
  {
   "cell_type": "code",
   "execution_count": null,
   "id": "dcd86ed0",
   "metadata": {},
   "outputs": [],
   "source": []
  },
  {
   "cell_type": "code",
   "execution_count": null,
   "id": "0c088c5e",
   "metadata": {},
   "outputs": [],
   "source": []
  }
 ],
 "metadata": {
  "kernelspec": {
   "display_name": "Python 3 (ipykernel)",
   "language": "python",
   "name": "python3"
  },
  "language_info": {
   "codemirror_mode": {
    "name": "ipython",
    "version": 3
   },
   "file_extension": ".py",
   "mimetype": "text/x-python",
   "name": "python",
   "nbconvert_exporter": "python",
   "pygments_lexer": "ipython3",
   "version": "3.9.12"
  }
 },
 "nbformat": 4,
 "nbformat_minor": 5
}
