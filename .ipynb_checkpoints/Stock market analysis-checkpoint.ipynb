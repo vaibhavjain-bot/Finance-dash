{
 "cells": [
  {
   "cell_type": "code",
   "execution_count": 1,
   "id": "bf2865af",
   "metadata": {},
   "outputs": [],
   "source": [
    "%matplotlib inline\n",
    "\n",
    "import yfinance as yf\n",
    "import pandas_datareader as pdr\n",
    "from pandas_datareader import data, wb\n",
    "from pandas_datareader.yahoo.options import Options\n",
    "from pandas_datareader.yahoo.daily import YahooDailyReader"
   ]
  },
  {
   "cell_type": "code",
   "execution_count": null,
   "id": "8f71bcc6",
   "metadata": {},
   "outputs": [],
   "source": []
  },
  {
   "cell_type": "code",
   "execution_count": null,
   "id": "fcbb30b7",
   "metadata": {},
   "outputs": [],
   "source": []
  },
  {
   "cell_type": "code",
   "execution_count": 2,
   "id": "e1414c04",
   "metadata": {},
   "outputs": [],
   "source": [
    "from datetime import datetime"
   ]
  },
  {
   "cell_type": "code",
   "execution_count": null,
   "id": "a63a6396",
   "metadata": {},
   "outputs": [],
   "source": []
  },
  {
   "cell_type": "code",
   "execution_count": 3,
   "id": "aebd6465",
   "metadata": {},
   "outputs": [],
   "source": [
    "end = datetime.now()"
   ]
  },
  {
   "cell_type": "code",
   "execution_count": null,
   "id": "4997fcf5",
   "metadata": {},
   "outputs": [],
   "source": []
  },
  {
   "cell_type": "code",
   "execution_count": 4,
   "id": "308abfe4",
   "metadata": {},
   "outputs": [],
   "source": [
    "start = datetime(end.year-1,end.month,end.day)"
   ]
  },
  {
   "cell_type": "code",
   "execution_count": null,
   "id": "38175466",
   "metadata": {},
   "outputs": [],
   "source": []
  },
  {
   "cell_type": "code",
   "execution_count": 5,
   "id": "107d9926",
   "metadata": {},
   "outputs": [],
   "source": [
    "tech_list=[\"AAPL\",\"GOOG\",\"AMZN\",\"MSFT\"]"
   ]
  },
  {
   "cell_type": "code",
   "execution_count": 6,
   "id": "55d3ff52",
   "metadata": {},
   "outputs": [],
   "source": [
    "for stock in tech_list:   \n",
    "    globals()[stock] = pdr.get_data_yahoo(stock,start,end)"
   ]
  },
  {
   "cell_type": "code",
   "execution_count": null,
   "id": "52f9833e",
   "metadata": {},
   "outputs": [],
   "source": []
  },
  {
   "cell_type": "code",
   "execution_count": null,
   "id": "8c9f9fe4",
   "metadata": {},
   "outputs": [],
   "source": []
  },
  {
   "cell_type": "code",
   "execution_count": null,
   "id": "314d5b88",
   "metadata": {},
   "outputs": [],
   "source": []
  },
  {
   "cell_type": "code",
   "execution_count": null,
   "id": "52e526e6",
   "metadata": {},
   "outputs": [],
   "source": []
  },
  {
   "cell_type": "code",
   "execution_count": null,
   "id": "9c6cb430",
   "metadata": {},
   "outputs": [],
   "source": []
  },
  {
   "cell_type": "code",
   "execution_count": null,
   "id": "5c85fbe3",
   "metadata": {},
   "outputs": [],
   "source": []
  },
  {
   "cell_type": "code",
   "execution_count": null,
   "id": "5235f429",
   "metadata": {},
   "outputs": [],
   "source": []
  },
  {
   "cell_type": "code",
   "execution_count": 39,
   "id": "27d5e7fa",
   "metadata": {},
   "outputs": [
    {
     "data": {
      "text/plain": [
       "('AMZN',\n",
       " <module 'yfinance' from '/opt/anaconda3/lib/python3.9/site-packages/yfinance/__init__.py'>,\n",
       " datetime.datetime(2021, 8, 21, 0, 0),\n",
       " datetime.datetime(2022, 8, 21, 10, 22, 41, 589609))"
      ]
     },
     "execution_count": 39,
     "metadata": {},
     "output_type": "execute_result"
    }
   ],
   "source": [
    "AMZN"
   ]
  },
  {
   "cell_type": "code",
   "execution_count": null,
   "id": "aad48bcf",
   "metadata": {},
   "outputs": [],
   "source": []
  },
  {
   "cell_type": "code",
   "execution_count": null,
   "id": "d204703c",
   "metadata": {},
   "outputs": [],
   "source": []
  },
  {
   "cell_type": "code",
   "execution_count": null,
   "id": "e05ae5f4",
   "metadata": {},
   "outputs": [],
   "source": []
  },
  {
   "cell_type": "code",
   "execution_count": null,
   "id": "1f5f17a2",
   "metadata": {},
   "outputs": [],
   "source": []
  },
  {
   "cell_type": "code",
   "execution_count": null,
   "id": "083e6f72",
   "metadata": {},
   "outputs": [],
   "source": []
  },
  {
   "cell_type": "code",
   "execution_count": null,
   "id": "f9e0e3fd",
   "metadata": {},
   "outputs": [],
   "source": []
  },
  {
   "cell_type": "code",
   "execution_count": null,
   "id": "00706968",
   "metadata": {},
   "outputs": [],
   "source": []
  },
  {
   "cell_type": "code",
   "execution_count": null,
   "id": "76254155",
   "metadata": {},
   "outputs": [],
   "source": []
  },
  {
   "cell_type": "code",
   "execution_count": null,
   "id": "b247acff",
   "metadata": {},
   "outputs": [],
   "source": []
  },
  {
   "cell_type": "code",
   "execution_count": null,
   "id": "277d8fd0",
   "metadata": {},
   "outputs": [],
   "source": []
  },
  {
   "cell_type": "code",
   "execution_count": null,
   "id": "59839fe2",
   "metadata": {},
   "outputs": [],
   "source": []
  },
  {
   "cell_type": "code",
   "execution_count": null,
   "id": "978ed1d3",
   "metadata": {},
   "outputs": [],
   "source": []
  },
  {
   "cell_type": "code",
   "execution_count": null,
   "id": "34f56af8",
   "metadata": {},
   "outputs": [],
   "source": []
  },
  {
   "cell_type": "code",
   "execution_count": null,
   "id": "a7393a91",
   "metadata": {},
   "outputs": [],
   "source": []
  },
  {
   "cell_type": "code",
   "execution_count": 15,
   "id": "de03028f",
   "metadata": {},
   "outputs": [
    {
     "name": "stdout",
     "output_type": "stream",
     "text": [
      "[*********************100%***********************]  1 of 1 completed\n"
     ]
    }
   ],
   "source": [
    "data = yf.download(\"SPY\", start, end)"
   ]
  },
  {
   "cell_type": "code",
   "execution_count": 16,
   "id": "e55950d2",
   "metadata": {},
   "outputs": [
    {
     "data": {
      "text/html": [
       "<div>\n",
       "<style scoped>\n",
       "    .dataframe tbody tr th:only-of-type {\n",
       "        vertical-align: middle;\n",
       "    }\n",
       "\n",
       "    .dataframe tbody tr th {\n",
       "        vertical-align: top;\n",
       "    }\n",
       "\n",
       "    .dataframe thead th {\n",
       "        text-align: right;\n",
       "    }\n",
       "</style>\n",
       "<table border=\"1\" class=\"dataframe\">\n",
       "  <thead>\n",
       "    <tr style=\"text-align: right;\">\n",
       "      <th></th>\n",
       "      <th>Open</th>\n",
       "      <th>High</th>\n",
       "      <th>Low</th>\n",
       "      <th>Close</th>\n",
       "      <th>Adj Close</th>\n",
       "      <th>Volume</th>\n",
       "    </tr>\n",
       "    <tr>\n",
       "      <th>Date</th>\n",
       "      <th></th>\n",
       "      <th></th>\n",
       "      <th></th>\n",
       "      <th></th>\n",
       "      <th></th>\n",
       "      <th></th>\n",
       "    </tr>\n",
       "  </thead>\n",
       "  <tbody>\n",
       "    <tr>\n",
       "      <th>2021-08-23</th>\n",
       "      <td>445.160004</td>\n",
       "      <td>448.230011</td>\n",
       "      <td>443.440002</td>\n",
       "      <td>447.260010</td>\n",
       "      <td>440.990021</td>\n",
       "      <td>54973000</td>\n",
       "    </tr>\n",
       "    <tr>\n",
       "      <th>2021-08-24</th>\n",
       "      <td>447.970001</td>\n",
       "      <td>448.540009</td>\n",
       "      <td>447.420013</td>\n",
       "      <td>447.970001</td>\n",
       "      <td>441.690063</td>\n",
       "      <td>38744700</td>\n",
       "    </tr>\n",
       "    <tr>\n",
       "      <th>2021-08-25</th>\n",
       "      <td>448.170013</td>\n",
       "      <td>449.459991</td>\n",
       "      <td>447.769989</td>\n",
       "      <td>448.910004</td>\n",
       "      <td>442.616913</td>\n",
       "      <td>40529700</td>\n",
       "    </tr>\n",
       "    <tr>\n",
       "      <th>2021-08-26</th>\n",
       "      <td>448.609985</td>\n",
       "      <td>448.859985</td>\n",
       "      <td>446.160004</td>\n",
       "      <td>446.260010</td>\n",
       "      <td>440.004028</td>\n",
       "      <td>57829600</td>\n",
       "    </tr>\n",
       "    <tr>\n",
       "      <th>2021-08-27</th>\n",
       "      <td>447.119995</td>\n",
       "      <td>450.649994</td>\n",
       "      <td>447.059998</td>\n",
       "      <td>450.250000</td>\n",
       "      <td>443.938141</td>\n",
       "      <td>77235100</td>\n",
       "    </tr>\n",
       "    <tr>\n",
       "      <th>...</th>\n",
       "      <td>...</td>\n",
       "      <td>...</td>\n",
       "      <td>...</td>\n",
       "      <td>...</td>\n",
       "      <td>...</td>\n",
       "      <td>...</td>\n",
       "    </tr>\n",
       "    <tr>\n",
       "      <th>2022-08-15</th>\n",
       "      <td>424.769989</td>\n",
       "      <td>429.410004</td>\n",
       "      <td>424.709991</td>\n",
       "      <td>428.859985</td>\n",
       "      <td>428.859985</td>\n",
       "      <td>54048300</td>\n",
       "    </tr>\n",
       "    <tr>\n",
       "      <th>2022-08-16</th>\n",
       "      <td>427.730011</td>\n",
       "      <td>431.730011</td>\n",
       "      <td>426.880005</td>\n",
       "      <td>429.700012</td>\n",
       "      <td>429.700012</td>\n",
       "      <td>59289000</td>\n",
       "    </tr>\n",
       "    <tr>\n",
       "      <th>2022-08-17</th>\n",
       "      <td>425.910004</td>\n",
       "      <td>429.500000</td>\n",
       "      <td>424.540009</td>\n",
       "      <td>426.649994</td>\n",
       "      <td>426.649994</td>\n",
       "      <td>63563400</td>\n",
       "    </tr>\n",
       "    <tr>\n",
       "      <th>2022-08-18</th>\n",
       "      <td>426.859985</td>\n",
       "      <td>428.609985</td>\n",
       "      <td>425.500000</td>\n",
       "      <td>427.890015</td>\n",
       "      <td>427.890015</td>\n",
       "      <td>49023200</td>\n",
       "    </tr>\n",
       "    <tr>\n",
       "      <th>2022-08-19</th>\n",
       "      <td>424.980011</td>\n",
       "      <td>425.260010</td>\n",
       "      <td>421.220001</td>\n",
       "      <td>422.140015</td>\n",
       "      <td>422.140015</td>\n",
       "      <td>67934700</td>\n",
       "    </tr>\n",
       "  </tbody>\n",
       "</table>\n",
       "<p>251 rows × 6 columns</p>\n",
       "</div>"
      ],
      "text/plain": [
       "                  Open        High         Low       Close   Adj Close  \\\n",
       "Date                                                                     \n",
       "2021-08-23  445.160004  448.230011  443.440002  447.260010  440.990021   \n",
       "2021-08-24  447.970001  448.540009  447.420013  447.970001  441.690063   \n",
       "2021-08-25  448.170013  449.459991  447.769989  448.910004  442.616913   \n",
       "2021-08-26  448.609985  448.859985  446.160004  446.260010  440.004028   \n",
       "2021-08-27  447.119995  450.649994  447.059998  450.250000  443.938141   \n",
       "...                ...         ...         ...         ...         ...   \n",
       "2022-08-15  424.769989  429.410004  424.709991  428.859985  428.859985   \n",
       "2022-08-16  427.730011  431.730011  426.880005  429.700012  429.700012   \n",
       "2022-08-17  425.910004  429.500000  424.540009  426.649994  426.649994   \n",
       "2022-08-18  426.859985  428.609985  425.500000  427.890015  427.890015   \n",
       "2022-08-19  424.980011  425.260010  421.220001  422.140015  422.140015   \n",
       "\n",
       "              Volume  \n",
       "Date                  \n",
       "2021-08-23  54973000  \n",
       "2021-08-24  38744700  \n",
       "2021-08-25  40529700  \n",
       "2021-08-26  57829600  \n",
       "2021-08-27  77235100  \n",
       "...              ...  \n",
       "2022-08-15  54048300  \n",
       "2022-08-16  59289000  \n",
       "2022-08-17  63563400  \n",
       "2022-08-18  49023200  \n",
       "2022-08-19  67934700  \n",
       "\n",
       "[251 rows x 6 columns]"
      ]
     },
     "execution_count": 16,
     "metadata": {},
     "output_type": "execute_result"
    }
   ],
   "source": [
    "data"
   ]
  },
  {
   "cell_type": "code",
   "execution_count": null,
   "id": "b0a5b6a5",
   "metadata": {},
   "outputs": [],
   "source": []
  },
  {
   "cell_type": "code",
   "execution_count": 7,
   "id": "9d3fd345",
   "metadata": {},
   "outputs": [],
   "source": [
    "def z_score(chunk):\n",
    "    return (chunk[-1] - chunk.mean()) / chunk.std()"
   ]
  },
  {
   "cell_type": "code",
   "execution_count": 8,
   "id": "9196dbc3",
   "metadata": {},
   "outputs": [],
   "source": [
    "rolled = data.Close.rolling(window=30).apply(z_score)"
   ]
  },
  {
   "cell_type": "code",
   "execution_count": 52,
   "id": "1fbda02d",
   "metadata": {},
   "outputs": [
    {
     "data": {
      "text/plain": [
       "<AxesSubplot:xlabel='Date'>"
      ]
     },
     "execution_count": 52,
     "metadata": {},
     "output_type": "execute_result"
    },
    {
     "data": {
      "image/png": "[encoded data removed]",
      "text/plain": [
       "<Figure size 432x288 with 1 Axes>"
      ]
     },
     "metadata": {
      "needs_background": "light"
     },
     "output_type": "display_data"
    }
   ],
   "source": [
    "rolled.plot()"
   ]
  },
  {
   "cell_type": "code",
   "execution_count": null,
   "id": "0c14e1a1",
   "metadata": {},
   "outputs": [],
   "source": []
  },
  {
   "cell_type": "code",
   "execution_count": null,
   "id": "709cd192",
   "metadata": {},
   "outputs": [],
   "source": []
  },
  {
   "cell_type": "code",
   "execution_count": 18,
   "id": "71f61d50",
   "metadata": {},
   "outputs": [
    {
     "data": {
      "text/plain": [
       "<AxesSubplot:>"
      ]
     },
     "execution_count": 18,
     "metadata": {},
     "output_type": "execute_result"
    },
    {
     "data": {
      "image/png": "[encoded data removed]",
      "text/plain": [
       "<Figure size 432x288 with 1 Axes>"
      ]
     },
     "metadata": {
      "needs_background": "light"
     },
     "output_type": "display_data"
    }
   ],
   "source": [
    "rolled.hist(bins=10)"
   ]
  },
  {
   "cell_type": "code",
   "execution_count": null,
   "id": "2aa3d961",
   "metadata": {},
   "outputs": [],
   "source": []
  },
  {
   "cell_type": "code",
   "execution_count": null,
   "id": "424141b0",
   "metadata": {},
   "outputs": [],
   "source": []
  },
  {
   "cell_type": "code",
   "execution_count": 11,
   "id": "2364ef1e",
   "metadata": {},
   "outputs": [],
   "source": [
    "min_pct_change = (\n",
    "    data\n",
    "    .Close\n",
    "    .pct_change()\n",
    "    .rolling(window=30)\n",
    "    .min()\n",
    ")"
   ]
  },
  {
   "cell_type": "code",
   "execution_count": 12,
   "id": "135083d7",
   "metadata": {},
   "outputs": [
    {
     "data": {
      "text/plain": [
       "<AxesSubplot:xlabel='Date'>"
      ]
     },
     "execution_count": 12,
     "metadata": {},
     "output_type": "execute_result"
    },
    {
     "data": {
      "image/png": "[encoded data removed]",
      "text/plain": [
       "<Figure size 432x288 with 1 Axes>"
      ]
     },
     "metadata": {
      "needs_background": "light"
     },
     "output_type": "display_data"
    }
   ],
   "source": [
    "min_pct_change.plot()"
   ]
  },
  {
   "cell_type": "code",
   "execution_count": 14,
   "id": "8fa6a153",
   "metadata": {},
   "outputs": [
    {
     "data": {
      "text/plain": [
       "<AxesSubplot:>"
      ]
     },
     "execution_count": 14,
     "metadata": {},
     "output_type": "execute_result"
    },
    {
     "data": {
      "image/png": "[encoded data removed]",
      "text/plain": [
       "<Figure size 432x288 with 1 Axes>"
      ]
     },
     "metadata": {
      "needs_background": "light"
     },
     "output_type": "display_data"
    }
   ],
   "source": [
    "min_pct_change.hist(bins=20)"
   ]
  },
  {
   "cell_type": "code",
   "execution_count": null,
   "id": "44e36b28",
   "metadata": {},
   "outputs": [],
   "source": []
  },
  {
   "cell_type": "code",
   "execution_count": null,
   "id": "ee338842",
   "metadata": {},
   "outputs": [],
   "source": []
  },
  {
   "cell_type": "code",
   "execution_count": null,
   "id": "09faa57a",
   "metadata": {},
   "outputs": [],
   "source": []
  }
 ],
 "metadata": {
  "kernelspec": {
   "display_name": "Python 3 (ipykernel)",
   "language": "python",
   "name": "python3"
  },
  "language_info": {
   "codemirror_mode": {
    "name": "ipython",
    "version": 3
   },
   "file_extension": ".py",
   "mimetype": "text/x-python",
   "name": "python",
   "nbconvert_exporter": "python",
   "pygments_lexer": "ipython3",
   "version": "3.9.12"
  }
 },
 "nbformat": 4,
 "nbformat_minor": 5
}
